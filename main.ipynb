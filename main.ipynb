{
  "cells": [
    {
      "cell_type": "markdown",
      "metadata": {
        "id": "imaw0CXsyME1"
      },
      "source": [
        "# Movie Recommendation - Collaborative Filtering"
      ]
    },
    {
      "cell_type": "markdown",
      "metadata": {
        "id": "FLOxldF8yME-"
      },
      "source": [
        "We have all seen product recommandations like \"People who have looked that item x, also bought item y.\"\n",
        "In this notebook we develop a similar system for an even better cause: Figuring out which movie to watch next.\n",
        "For this we consider a simple dataset with user ratings for movies and then use a technique called [Collaborative Filtering](https://en.wikipedia.org/wiki/Collaborative_filtering) to identify which new movies might be worth watching based on other movies we liked."
      ]
    },
    {
      "cell_type": "markdown",
      "metadata": {
        "id": "5LVbMbeKyME_"
      },
      "source": [
        "![ratings](https://github.com/joerg84/Graph_Powered_ML_Workshop/blob/master/img/user_movie_rating.png?raw=1)"
      ]
    },
    {
      "cell_type": "markdown",
      "metadata": {
        "id": "AUnaX7XryMFA"
      },
      "source": [
        "First, setting up our environment."
      ]
    },
    {
      "cell_type": "code",
      "execution_count": 36,
      "metadata": {
        "id": "mzKjMrZuyMFB"
      },
      "outputs": [
        {
          "name": "stdout",
          "output_type": "stream",
          "text": [
            "Defaulting to user installation because normal site-packages is not writeable\n",
            "Requirement already satisfied: pyarango in /home/napster/.local/lib/python3.9/site-packages (1.3.5)\n",
            "Requirement already satisfied: requests>=2.7.0 in /usr/lib/python3.9/site-packages (from pyarango) (2.26.0)\n",
            "Requirement already satisfied: datetime in /home/napster/.local/lib/python3.9/site-packages (from pyarango) (4.3)\n",
            "Requirement already satisfied: future in /home/napster/.local/lib/python3.9/site-packages (from pyarango) (0.18.2)\n",
            "Requirement already satisfied: chardet>=3.0.2 in /usr/lib/python3.9/site-packages (from requests>=2.7.0->pyarango) (4.0.0)\n",
            "Requirement already satisfied: idna>=2.5 in /usr/lib/python3.9/site-packages (from requests>=2.7.0->pyarango) (3.3)\n",
            "Requirement already satisfied: urllib3>=1.21.1 in /usr/lib/python3.9/site-packages (from requests>=2.7.0->pyarango) (1.26.7)\n",
            "Requirement already satisfied: pytz in /usr/lib/python3.9/site-packages (from datetime->pyarango) (2021.3)\n",
            "Requirement already satisfied: zope.interface in /usr/lib/python3.9/site-packages (from datetime->pyarango) (5.4.0)\n",
            "Requirement already satisfied: setuptools in /usr/lib/python3.9/site-packages (from zope.interface->datetime->pyarango) (57.4.0)\n"
          ]
        }
      ],
      "source": [
        "!pip3 install pyarango"
      ]
    },
    {
      "cell_type": "code",
      "execution_count": 37,
      "metadata": {
        "id": "ZEwP2Lb9yMFD"
      },
      "outputs": [],
      "source": [
        "import csv\n",
        "import json\n",
        "import requests\n",
        "import sys\n",
        "import oasis\n",
        "import time\n",
        "from pyArango.connection import *\n",
        "from pyArango.collection import Collection, Edges, Field\n",
        "from pyArango.graph import Graph, EdgeDefinition\n",
        "from pyArango.collection import BulkOperation as BulkOperation"
      ]
    },
    {
      "cell_type": "markdown",
      "metadata": {
        "id": "-_WpJrZoyMFE"
      },
      "source": [
        "Next, create a temporary database instance backed by ArangoDB's Managed Cloud Service Oasis:"
      ]
    },
    {
      "cell_type": "code",
      "execution_count": 38,
      "metadata": {
        "id": "4eZ3hufAyMFF"
      },
      "outputs": [
        {
          "name": "stdout",
          "output_type": "stream",
          "text": [
            "Reusing cached credentials.\n"
          ]
        }
      ],
      "source": [
        "# Retrieve tmp credentials from ArangoDB Tutorial Service\n",
        "login = oasis.getTempCredentials()\n",
        "\n",
        "# Connect to the temp database\n",
        "conn = oasis.connect(login)\n",
        "db = conn[login[\"dbName\"]] "
      ]
    },
    {
      "cell_type": "code",
      "execution_count": 39,
      "metadata": {
        "id": "tleCvM-7yMFG"
      },
      "outputs": [
        {
          "name": "stdout",
          "output_type": "stream",
          "text": [
            "https://tutorials.arangodb.cloud:8529\n",
            "Username: TUTfwbsls06i88g7bukjyqoxn\n",
            "Password: TUTzyrb6ma6n530f7ejnbjqh\n",
            "Database: TUTwkxc0uoa02ri4wq5oig9k\n"
          ]
        }
      ],
      "source": [
        "print(\"https://\"+login[\"hostname\"]+\":\"+str(login[\"port\"]))\n",
        "print(\"Username: \" + login[\"username\"])\n",
        "print(\"Password: \" + login[\"password\"])\n",
        "print(\"Database: \" + login[\"dbName\"])"
      ]
    },
    {
      "cell_type": "markdown",
      "metadata": {
        "id": "nWD3REiRyMFI"
      },
      "source": [
        "Lets define a structure for a simple train network."
      ]
    },
    {
      "cell_type": "markdown",
      "metadata": {
        "id": "UhnE9C52yMFI"
      },
      "source": [
        "Let us take a short look at our dataset which–as often in realworld scenarios– comes in csv format. "
      ]
    },
    {
      "cell_type": "code",
      "execution_count": 40,
      "metadata": {
        "id": "b0Hw3Si8yMFJ"
      },
      "outputs": [
        {
          "name": "stdout",
          "output_type": "stream",
          "text": [
            "User Data\n",
            "user_id,Age,Gender,occupation,zip_code\n",
            "1,35,M,engineer,94117\n",
            "2,53,F,other,94043\n",
            "\n",
            "Movies Data\n",
            "movie_id, movie title , release date , video release date , IMDb URL , unknown , Action , Adventure , Animation , Children's , Comedy , Crime , Documentary , Drama , Fantasy , Film-Noir , Horror , Musical , Mystery , Romance , Sci-Fi , Thriller , War , Western\n",
            "1,Toy Story (1995),01-Jan-1995,,http://us.imdb.com/M/title-exact?Toy%20Story%20(1995),0,0,0,1,1,1,0,0,0,0,0,0,0,0,0,0,0,0,0\n",
            "2,GoldenEye (1995),01-Jan-1995,,http://us.imdb.com/M/title-exact?GoldenEye%20(1995),0,1,1,0,0,0,0,0,0,0,0,0,0,0,0,0,1,0,0\n",
            "\n",
            "Rating Data\n",
            "user_id,item_id,Rating,Timestamp\n",
            "186,302,3,891717742\n",
            "22,377,1,878887116\n"
          ]
        }
      ],
      "source": [
        "print(\"User Data\")\n",
        "!head -n 3 Data/users.csv \n",
        "print()\n",
        "print(\"Movies Data\")\n",
        "!head -n 3 Data/movies.csv \n",
        "print()\n",
        "print(\"Rating Data\")\n",
        "!head -n 3 Data/ratings.csv \n"
      ]
    },
    {
      "cell_type": "markdown",
      "metadata": {
        "id": "1I-VMQ7pyMFJ"
      },
      "source": [
        "Create a graph with Users and Movies as Vertices, and Ratings as edges between."
      ]
    },
    {
      "cell_type": "code",
      "execution_count": 43,
      "metadata": {
        "id": "gfyPO8T0yMFJ"
      },
      "outputs": [
        {
          "name": "stdout",
          "output_type": "stream",
          "text": [
            "Collection/Graph Setup done.\n"
          ]
        }
      ],
      "source": [
        "# Create a collection for users\n",
        "\n",
        "class Users(Collection):\n",
        "    _fields = {\n",
        "        \"user_id\": Field(),\n",
        "        \"age\": Field(),\n",
        "        \"gender\": Field()\n",
        "    }\n",
        "    \n",
        "class Movies(Collection):\n",
        "    _fields = {\n",
        "        \"movie_id\": Field(),\n",
        "        \"movie_title\": Field(),\n",
        "        \"release_data\": Field()\n",
        "    }\n",
        "\n",
        "class Ratings(Edges): \n",
        "    _fields = {\n",
        "        #user_id and item_id are encoded by _from, _to \n",
        "        \"rating\": Field(),\n",
        "        \"timestamp\": Field()\n",
        "    }\n",
        "\n",
        "class IMDBGraph(Graph) :\n",
        "    _edgeDefinitions = [EdgeDefinition(\"Ratings\", fromCollections=[\"Users\"], toCollections=[\"Movies\"])]\n",
        "    _orphanedCollections = []\n",
        "\n",
        "db.createCollection(\"Users\")\n",
        "db.createCollection(\"Movies\")\n",
        "db.createCollection(\"Ratings\")\n",
        "iMDBGraph = db.createGraph(\"IMDBGraph\", replicationFactor=3)\n",
        "\n",
        "print(\"Collection/Graph Setup done.\")"
      ]
    },
    {
      "cell_type": "code",
      "execution_count": 44,
      "metadata": {
        "id": "toyXuNgyyMFK"
      },
      "outputs": [
        {
          "name": "stdout",
          "output_type": "stream",
          "text": [
            "Import Done\n"
          ]
        }
      ],
      "source": [
        "collection = db[\"Users\"]\n",
        "with BulkOperation(collection, batchSize=100) as col:\n",
        "    with open('Data/users.csv', newline='') as csvfile:\n",
        "        reader = csv.reader(csvfile, delimiter=',', quotechar='|')\n",
        "        #Skip header\n",
        "        next(reader)\n",
        "        for row in reader:\n",
        "            user_id,age,gender,occupation,zip = tuple(row)\n",
        "            doc = col.createDocument()\n",
        "            doc[\"_key\"] = user_id\n",
        "            doc[\"age\"] = age\n",
        "            doc[\"gender\"] = gender\n",
        "            doc.save()\n",
        "\n",
        "collection = db[\"Movies\"]\n",
        "with BulkOperation(collection, batchSize=100) as col:\n",
        "    with open('Data/movies.csv', newline='') as csvfile:\n",
        "        reader = csv.reader(csvfile, delimiter=',', quotechar='|')\n",
        "        #Skip header\n",
        "        next(reader)\n",
        "        for row in reader:\n",
        "            movie_id, movie_title , release_date , video_release_date , url , unknown , action , adventure , animation , childrens , comedy , crime , documentary , drama , fantasy , noir , horror , musical , mystery , romance , scifi , thriller , war , western = tuple(row)\n",
        "            doc = col.createDocument()\n",
        "            doc[\"_key\"] = movie_id\n",
        "            doc[\"movie_title\"] = movie_title\n",
        "            doc[\"release_date\"] = release_date\n",
        "            doc.save()\n",
        "\n",
        "collection = db[\"Ratings\"]\n",
        "with BulkOperation(collection, batchSize=1000) as col:\n",
        "    with open('Data/ratings.csv', newline='') as csvfile:\n",
        "        reader = csv.reader(csvfile, delimiter=',', quotechar='|')\n",
        "        #Skip header\n",
        "        next(reader)\n",
        "        for row in reader:\n",
        "            user_id,movie_id,rating,timestamp = tuple(row)\n",
        "            doc = col.createDocument()\n",
        "            doc[\"_from\"] = \"Users/\"+user_id\n",
        "            doc[\"_to\"] = \"Movies/\"+movie_id\n",
        "            doc[\"ratings\"] = rating\n",
        "            doc[\"timestamp\"] = timestamp\n",
        "            doc.save()\n",
        "        \n",
        "print(\"Import Done\")"
      ]
    },
    {
      "cell_type": "markdown",
      "metadata": {
        "id": "BSl1oradyMFL"
      },
      "source": [
        "Let us build the Collaborative Filtering step by step;\n",
        "\n",
        "1. Find movies I rated with 5 stars\n",
        "2. Find users who also rated these movies also with 5 stars\n",
        "3. Find additional movies also rated 5 stars by those users\n"
      ]
    },
    {
      "cell_type": "code",
      "execution_count": 45,
      "metadata": {
        "id": "tRD8IBY8yMFL"
      },
      "outputs": [
        {
          "name": "stdout",
          "output_type": "stream",
          "text": [
            "Movie: Groundhog Day (1993)\n",
            "Rating: 5\n",
            "\n",
            "Movie: Delicatessen (1991)\n",
            "Rating: 5\n",
            "\n",
            "Movie: Pillow Book- The (1995)\n",
            "Rating: 5\n",
            "\n",
            "Movie: Horseman on the Roof- The (Hussard sur le toit- Le) (1995)\n",
            "Rating: 5\n",
            "\n",
            "Movie: Shawshank Redemption- The (1994)\n",
            "Rating: 5\n",
            "\n",
            "Movie: Star Trek: The Wrath of Khan (1982)\n",
            "Rating: 5\n",
            "\n",
            "Movie: Wallace & Gromit: The Best of Aardman Animation (1996)\n",
            "Rating: 5\n",
            "\n",
            "Movie: Breaking the Waves (1996)\n",
            "Rating: 5\n",
            "\n",
            "Movie: Three Colors: Blue (1993)\n",
            "Rating: 5\n",
            "\n",
            "Movie: Good- The Bad and The Ugly- The (1966)\n",
            "Rating: 5\n",
            "\n"
          ]
        }
      ],
      "source": [
        "my_ratings = \"\"\"\n",
        "WITH Movies, Users, Ratings\n",
        "FOR movie, edge IN 1..1 \n",
        "  OUTBOUND 'Users/1'\n",
        "  GRAPH 'IMDBGraph'\n",
        "  FILTER TO_NUMBER(edge.ratings) == 5\n",
        "  LIMIT 10\n",
        "  RETURN {\n",
        "        \"movie\" : movie.movie_title,\n",
        "        \"rating\" : edge.ratings\n",
        "    }\n",
        "\"\"\"\n",
        "\n",
        "queryResult = db.AQLQuery(my_ratings, rawResults=True)\n",
        "for result in queryResult:\n",
        "    print(\"Movie: \" + result[\"movie\"])\n",
        "    print(\"Rating: \" + result[\"rating\"])\n",
        "    print()"
      ]
    },
    {
      "cell_type": "code",
      "execution_count": 46,
      "metadata": {
        "id": "1pQKfFDdyMFM"
      },
      "outputs": [
        {
          "name": "stdout",
          "output_type": "stream",
          "text": [
            "User: 161\n",
            "Age: 50\n",
            "\n",
            "User: 233\n",
            "Age: 38\n",
            "\n",
            "User: 1\n",
            "Age: 35\n",
            "\n",
            "User: 301\n",
            "Age: 24\n",
            "\n",
            "User: 303\n",
            "Age: 19\n",
            "\n",
            "User: 288\n",
            "Age: 34\n",
            "\n",
            "User: 210\n",
            "Age: 39\n",
            "\n",
            "User: 379\n",
            "Age: 44\n",
            "\n",
            "User: 130\n",
            "Age: 20\n",
            "\n",
            "User: 97\n",
            "Age: 43\n",
            "\n"
          ]
        }
      ],
      "source": [
        "alike_users = \"\"\"\n",
        "WITH Movies, Users, Ratings\n",
        "FOR movie, edge IN 1..1 \n",
        "  OUTBOUND 'Users/1'\n",
        "  GRAPH 'IMDBGraph'\n",
        "  FILTER TO_NUMBER(edge.ratings) == 5\n",
        "      FOR user, edge2 IN ANY movie Ratings\n",
        "            FILTER TO_NUMBER(edge2.ratings) == 5\n",
        "            LIMIT 10\n",
        "            RETURN DISTINCT {\n",
        "                \"user\" : user._key,\n",
        "                \"age\" : user.age\n",
        "            }\n",
        "\"\"\"\n",
        "\n",
        "queryResult = db.AQLQuery(alike_users, rawResults=True)\n",
        "for result in queryResult:\n",
        "    print(\"User: \" + result[\"user\"])\n",
        "    print(\"Age: \" + result[\"age\"])\n",
        "    print()"
      ]
    },
    {
      "cell_type": "code",
      "execution_count": 47,
      "metadata": {
        "id": "o4A38tj-yMFM"
      },
      "outputs": [
        {
          "name": "stdout",
          "output_type": "stream",
          "text": [
            "Recommended Movies:\n",
            "\n",
            "\tGroundhog Day (1993)\n",
            "\n",
            "\tLeaving Las Vegas (1995)\n",
            "\n",
            "\tGood Will Hunting (1997)\n",
            "\n",
            "\tAs Good As It Gets (1997)\n",
            "\n",
            "\tApt Pupil (1998)\n",
            "\n",
            "\tOne Flew Over the Cuckoo's Nest (1975)\n",
            "\n",
            "\tTo Live (Huozhe) (1994)\n",
            "\n",
            "\tHoop Dreams (1994)\n",
            "\n",
            "\tRaiders of the Lost Ark (1981)\n",
            "\n"
          ]
        }
      ],
      "source": [
        "new_movies = \"\"\"\n",
        "WITH Movies, Users, Ratings\n",
        "FOR movie, edge IN 1..1 \n",
        "  OUTBOUND 'Users/1'\n",
        "  GRAPH 'IMDBGraph'\n",
        "  FILTER TO_NUMBER(edge.ratings) == 5\n",
        "  \n",
        "      FOR user, edge2 IN ANY movie Ratings\n",
        "            FILTER TO_NUMBER(edge2.ratings) == 5\n",
        "           // All users who have also rated that movie with 5 stars\n",
        "          FOR movie2, edge3 IN ANY user Ratings\n",
        "              FILTER TO_NUMBER(edge3.ratings) == 5\n",
        "              LIMIT 10\n",
        "              RETURN DISTINCT {\n",
        "                 \"title\" : movie2.movie_title\n",
        "              }\n",
        "\"\"\"\n",
        "\n",
        "queryResult = db.AQLQuery(new_movies, rawResults=True)\n",
        "print(\"Recommended Movies:\\n\")\n",
        "for result in queryResult:\n",
        "    print(\"\\t\" + result[\"title\"])\n",
        "    print()"
      ]
    },
    {
      "cell_type": "code",
      "execution_count": 42,
      "metadata": {
        "id": "Q_PYuw0XyMFN"
      },
      "outputs": [],
      "source": [
        "# Delete collections\n",
        "db.dropAllCollections() \n",
        "db.reload()"
      ]
    }
  ],
  "metadata": {
    "colab": {
      "name": "Copy of Graph_Analytics.ipynb",
      "provenance": []
    },
    "interpreter": {
      "hash": "767d51c1340bd893661ea55ea3124f6de3c7a262a8b4abca0554b478b1e2ff90"
    },
    "kernelspec": {
      "display_name": "Python 3.9.9 64-bit",
      "name": "python3"
    },
    "language_info": {
      "name": "python",
      "version": ""
    }
  },
  "nbformat": 4,
  "nbformat_minor": 0
}